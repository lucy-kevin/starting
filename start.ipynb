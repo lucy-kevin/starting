{
 "cells": [
  {
   "cell_type": "code",
   "execution_count": 2,
   "metadata": {},
   "outputs": [
    {
     "name": "stdout",
     "output_type": "stream",
     "text": [
      "i am kev\n"
     ]
    }
   ],
   "source": [
    "s = \"i am kevin\"\n",
    "print(s[0:8])"
   ]
  },
  {
   "cell_type": "markdown",
   "metadata": {},
   "source": [
    "this is slicing with the third parameter\n",
    "in the next code it prints from character 0 to 8 but \n",
    "subtracting 1 from 2 inthe third parameter to get 1 \n",
    "so one charater is skipped when printing"
   ]
  },
  {
   "cell_type": "code",
   "execution_count": 4,
   "metadata": {},
   "outputs": [
    {
     "name": "stdout",
     "output_type": "stream",
     "text": [
      "ia e\n"
     ]
    }
   ],
   "source": [
    "s = \"i am kevin\"\n",
    "print(s[0:8:2])"
   ]
  },
  {
   "cell_type": "code",
   "execution_count": 7,
   "metadata": {},
   "outputs": [
    {
     "name": "stdout",
     "output_type": "stream",
     "text": [
      "a ein\n"
     ]
    }
   ],
   "source": [
    "s = \"i am kevinne\"\n",
    "print(s[2:11:2])"
   ]
  },
  {
   "cell_type": "markdown",
   "metadata": {},
   "source": [
    "if we eliminate the first and second parament that means that we are interested in the whole string"
   ]
  },
  {
   "cell_type": "code",
   "execution_count": 8,
   "metadata": {},
   "outputs": [
    {
     "name": "stdout",
     "output_type": "stream",
     "text": [
      "abcdabcdabcdabcd\n",
      "adcbad\n"
     ]
    }
   ],
   "source": [
    "s= 'abcd' * 4\n",
    "print(s)\n",
    "\n",
    "print(s[::3])\n"
   ]
  },
  {
   "cell_type": "markdown",
   "metadata": {},
   "source": [
    "we can also eliminate the second parament and include the first and last"
   ]
  },
  {
   "cell_type": "code",
   "execution_count": 9,
   "metadata": {},
   "outputs": [
    {
     "name": "stdout",
     "output_type": "stream",
     "text": [
      "abcdabcdabcdabcd\n",
      "cbadc\n"
     ]
    }
   ],
   "source": [
    "s= 'abcd' * 4\n",
    "print(s)\n",
    "\n",
    "print(s[2::3])"
   ]
  },
  {
   "cell_type": "code",
   "execution_count": 10,
   "metadata": {},
   "outputs": [
    {
     "name": "stdout",
     "output_type": "stream",
     "text": [
      "abcdabcdabcdabcd\n",
      "adc\n"
     ]
    }
   ],
   "source": [
    "s= 'abcd' * 4\n",
    "print(s)\n",
    "\n",
    "print(s[:9:3])"
   ]
  },
  {
   "cell_type": "markdown",
   "metadata": {},
   "source": [
    "A negative third parameter\n",
    "then here we read the  from left to right\n",
    "here we add one to know the number of elements to  skip\n",
    "second parameter  + 1 specifies the stopping point"
   ]
  },
  {
   "cell_type": "code",
   "execution_count": 11,
   "metadata": {},
   "outputs": [
    {
     "name": "stdout",
     "output_type": "stream",
     "text": [
      "abcdabcdabcdabcd\n",
      "bcd\n"
     ]
    }
   ],
   "source": [
    "s= 'abcd' * 4\n",
    "print(s)\n",
    "\n",
    "print(s[9:1:-3])"
   ]
  },
  {
   "cell_type": "code",
   "execution_count": 12,
   "metadata": {},
   "outputs": [
    {
     "name": "stdout",
     "output_type": "stream",
     "text": [
      "gnirt\n"
     ]
    }
   ],
   "source": [
    "s = \"string\"\n",
    "print(s[5:0:-1])"
   ]
  },
  {
   "cell_type": "markdown",
   "metadata": {},
   "source": [
    "how to reverse a string"
   ]
  },
  {
   "cell_type": "code",
   "execution_count": 13,
   "metadata": {},
   "outputs": [
    {
     "name": "stdout",
     "output_type": "stream",
     "text": [
      "gnirts\n"
     ]
    }
   ],
   "source": [
    "s = \"string\"\n",
    "print(s[::-1])"
   ]
  },
  {
   "cell_type": "markdown",
   "metadata": {},
   "source": [
    "String Formatting/ string interpolation\n",
    " the process of inserting  an object into a predefined string is called string interpolation or string formatting\n"
   ]
  },
  {
   "cell_type": "markdown",
   "metadata": {},
   "source": [
    "% - formatting \n",
    "the oldest technique of inserting an object into a string\n"
   ]
  },
  {
   "cell_type": "code",
   "execution_count": 19,
   "metadata": {},
   "outputs": [
    {
     "name": "stdout",
     "output_type": "stream",
     "text": [
      "My name is Kevin, I am 21 years old\n"
     ]
    }
   ],
   "source": [
    "name = 'Kevin'\n",
    "age = 21\n",
    "\n",
    "print(\"My name is %s, I am %d years old\" % (name, age) )#%s is a place holder"
   ]
  },
  {
   "cell_type": "markdown",
   "metadata": {},
   "source": [
    "str.format() function\n",
    "    the placeholders are replaced by curly braces in the technique"
   ]
  },
  {
   "cell_type": "code",
   "execution_count": 20,
   "metadata": {},
   "outputs": [
    {
     "name": "stdout",
     "output_type": "stream",
     "text": [
      "My name is Kevin, I am 21 years old\n"
     ]
    }
   ],
   "source": [
    "name = 'Kevin'\n",
    "age = 21\n",
    "\n",
    "print(\"My name is {0}, I am {1 } years old\".format(name, age) )#%s is a place holder"
   ]
  }
 ],
 "metadata": {
  "kernelspec": {
   "display_name": "Python 3",
   "language": "python",
   "name": "python3"
  },
  "language_info": {
   "codemirror_mode": {
    "name": "ipython",
    "version": 3
   },
   "file_extension": ".py",
   "mimetype": "text/x-python",
   "name": "python",
   "nbconvert_exporter": "python",
   "pygments_lexer": "ipython3",
   "version": "3.11.0"
  }
 },
 "nbformat": 4,
 "nbformat_minor": 2
}
