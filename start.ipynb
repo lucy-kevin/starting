{
 "cells": [
  {
   "cell_type": "code",
   "execution_count": 1,
   "metadata": {},
   "outputs": [
    {
     "name": "stdout",
     "output_type": "stream",
     "text": [
      "i am kev\n"
     ]
    }
   ],
   "source": [
    "s = \"i am kevin\"\n",
    "print(s[0:8])"
   ]
  },
  {
   "cell_type": "markdown",
   "metadata": {},
   "source": [
    "this is slicing with the third parameter\n",
    "in the next code it prints from character 0 to 8 but \n",
    "subtracting 1 from 2 inthe third parameter to get 1 \n",
    "so one charater is skipped when printing"
   ]
  },
  {
   "cell_type": "code",
   "execution_count": 2,
   "metadata": {},
   "outputs": [
    {
     "name": "stdout",
     "output_type": "stream",
     "text": [
      "ia e\n"
     ]
    }
   ],
   "source": [
    "s = \"i am kevin\"\n",
    "print(s[0:8:2])"
   ]
  },
  {
   "cell_type": "code",
   "execution_count": 3,
   "metadata": {},
   "outputs": [
    {
     "name": "stdout",
     "output_type": "stream",
     "text": [
      "a ein\n"
     ]
    }
   ],
   "source": [
    "s = \"i am kevinne\"\n",
    "print(s[2:11:2])"
   ]
  },
  {
   "cell_type": "markdown",
   "metadata": {},
   "source": [
    "if we eliminate the first and second parament that means that we are interested in the whole string"
   ]
  },
  {
   "cell_type": "code",
   "execution_count": 4,
   "metadata": {},
   "outputs": [
    {
     "name": "stdout",
     "output_type": "stream",
     "text": [
      "abcdabcdabcdabcd\n",
      "adcbad\n"
     ]
    }
   ],
   "source": [
    "s= 'abcd' * 4\n",
    "print(s)\n",
    "\n",
    "print(s[::3])\n"
   ]
  },
  {
   "cell_type": "markdown",
   "metadata": {},
   "source": [
    "we can also eliminate the second parament and include the first and last"
   ]
  },
  {
   "cell_type": "code",
   "execution_count": 5,
   "metadata": {},
   "outputs": [
    {
     "name": "stdout",
     "output_type": "stream",
     "text": [
      "abcdabcdabcdabcd\n",
      "cbadc\n"
     ]
    }
   ],
   "source": [
    "s= 'abcd' * 4\n",
    "print(s)\n",
    "\n",
    "print(s[2::3])"
   ]
  },
  {
   "cell_type": "code",
   "execution_count": 6,
   "metadata": {},
   "outputs": [
    {
     "name": "stdout",
     "output_type": "stream",
     "text": [
      "abcdabcdabcdabcd\n",
      "adc\n"
     ]
    }
   ],
   "source": [
    "s= 'abcd' * 4\n",
    "print(s)\n",
    "\n",
    "print(s[:9:3])"
   ]
  },
  {
   "cell_type": "markdown",
   "metadata": {},
   "source": [
    "A negative third parameter\n",
    "then here we read the  from left to right\n",
    "here we add one to know the number of elements to  skip\n",
    "second parameter  + 1 specifies the stopping point"
   ]
  },
  {
   "cell_type": "code",
   "execution_count": 7,
   "metadata": {},
   "outputs": [
    {
     "name": "stdout",
     "output_type": "stream",
     "text": [
      "abcdabcdabcdabcd\n",
      "bcd\n"
     ]
    }
   ],
   "source": [
    "s= 'abcd' * 4\n",
    "print(s)\n",
    "\n",
    "print(s[9:1:-3])"
   ]
  },
  {
   "cell_type": "code",
   "execution_count": 8,
   "metadata": {},
   "outputs": [
    {
     "name": "stdout",
     "output_type": "stream",
     "text": [
      "gnirt\n"
     ]
    }
   ],
   "source": [
    "s = \"string\"\n",
    "print(s[5:0:-1])"
   ]
  },
  {
   "cell_type": "markdown",
   "metadata": {},
   "source": [
    "how to reverse a string"
   ]
  },
  {
   "cell_type": "code",
   "execution_count": 9,
   "metadata": {},
   "outputs": [
    {
     "name": "stdout",
     "output_type": "stream",
     "text": [
      "gnirts\n"
     ]
    }
   ],
   "source": [
    "s = \"string\"\n",
    "print(s[::-1])"
   ]
  },
  {
   "cell_type": "markdown",
   "metadata": {},
   "source": [
    "String Formatting/ string interpolation\n",
    " the process of inserting  an object into a predefined string is called string interpolation or string formatting\n"
   ]
  },
  {
   "cell_type": "markdown",
   "metadata": {},
   "source": [
    "% - formatting \n",
    "the oldest technique of inserting an object into a string\n"
   ]
  },
  {
   "cell_type": "code",
   "execution_count": 10,
   "metadata": {},
   "outputs": [
    {
     "name": "stdout",
     "output_type": "stream",
     "text": [
      "My name is Kevin, I am 21 years old\n"
     ]
    }
   ],
   "source": [
    "name = 'Kevin'\n",
    "age = 21\n",
    "\n",
    "print(\"My name is %s, I am %d years old\" % (name, age) )#%s is a place holder"
   ]
  },
  {
   "cell_type": "markdown",
   "metadata": {},
   "source": [
    "str.format() function\n",
    "    the placeholders are replaced by curly braces in the technique"
   ]
  },
  {
   "cell_type": "code",
   "execution_count": 11,
   "metadata": {},
   "outputs": [
    {
     "ename": "KeyError",
     "evalue": "'1 '",
     "output_type": "error",
     "traceback": [
      "\u001b[1;31m---------------------------------------------------------------------------\u001b[0m",
      "\u001b[1;31mKeyError\u001b[0m                                  Traceback (most recent call last)",
      "\u001b[1;32mc:\\Users\\Lucy Kevin\\OneDrive\\Desktop\\starting\\start.ipynb Cell 19\u001b[0m line \u001b[0;36m4\n\u001b[0;32m      <a href='vscode-notebook-cell:/c%3A/Users/Lucy%20Kevin/OneDrive/Desktop/starting/start.ipynb#X24sZmlsZQ%3D%3D?line=0'>1</a>\u001b[0m name \u001b[39m=\u001b[39m \u001b[39m'\u001b[39m\u001b[39mKevin\u001b[39m\u001b[39m'\u001b[39m\n\u001b[0;32m      <a href='vscode-notebook-cell:/c%3A/Users/Lucy%20Kevin/OneDrive/Desktop/starting/start.ipynb#X24sZmlsZQ%3D%3D?line=1'>2</a>\u001b[0m age \u001b[39m=\u001b[39m \u001b[39m21\u001b[39m\n\u001b[1;32m----> <a href='vscode-notebook-cell:/c%3A/Users/Lucy%20Kevin/OneDrive/Desktop/starting/start.ipynb#X24sZmlsZQ%3D%3D?line=3'>4</a>\u001b[0m \u001b[39mprint\u001b[39m(\u001b[39m\"\u001b[39;49m\u001b[39mMy name is \u001b[39;49m\u001b[39m{0}\u001b[39;49;00m\u001b[39m, I am \u001b[39;49m\u001b[39m{\u001b[39;49m\u001b[39m1 } years old\u001b[39;49m\u001b[39m\"\u001b[39;49m\u001b[39m.\u001b[39;49mformat(name, age) )\u001b[39m#%s is a place holder\u001b[39;00m\n",
      "\u001b[1;31mKeyError\u001b[0m: '1 '"
     ]
    }
   ],
   "source": [
    "name = 'Kevin'\n",
    "age = 21\n",
    "\n",
    "print(\"My name is {0}, I am {1 } years old\".format(name, age) )#%s is a place holder"
   ]
  },
  {
   "cell_type": "code",
   "execution_count": null,
   "metadata": {},
   "outputs": [
    {
     "name": "stdout",
     "output_type": "stream",
     "text": [
      "My name is Kevin, I am 21 years old\n"
     ]
    }
   ],
   "source": [
    "n = 'Kevin'\n",
    "a = 21\n",
    "\n",
    "print(\"My name is {name}, I am {age} years old\".format(name = n, age =a) )#%s is a place holder"
   ]
  },
  {
   "cell_type": "markdown",
   "metadata": {},
   "source": [
    "format specifiers like \n",
    "f for float\n",
    "b for binary\n",
    "d for integer\n"
   ]
  },
  {
   "cell_type": "code",
   "execution_count": null,
   "metadata": {},
   "outputs": [
    {
     "name": "stdout",
     "output_type": "stream",
     "text": [
      "i got 55.660000% marks in Engish\n",
      "i got 55.000000% marks in Engish\n"
     ]
    }
   ],
   "source": [
    "setence = 'i got {0:f}% marks in Engish'.format(55.66)\n",
    "print(setence)# the 0 tell pyhton to make the first element a flaot\n",
    "setence = 'i got {0:f}% marks in Engish'.format(55)\n",
    "print(setence)"
   ]
  },
  {
   "cell_type": "code",
   "execution_count": null,
   "metadata": {},
   "outputs": [
    {
     "name": "stdout",
     "output_type": "stream",
     "text": [
      "i got 55.57% marks in Engish\n"
     ]
    }
   ],
   "source": [
    "setence = 'i got {0:.2f}% marks in Engish'.format(55.5674)\n",
    "print(setence)"
   ]
  },
  {
   "cell_type": "markdown",
   "metadata": {},
   "source": [
    "f-string"
   ]
  },
  {
   "cell_type": "code",
   "execution_count": null,
   "metadata": {},
   "outputs": [
    {
     "name": "stdout",
     "output_type": "stream",
     "text": [
      "my name is Kevin and i am 32\n",
      "my name is KEVIN and i am 32\n"
     ]
    }
   ],
   "source": [
    "name = \"Kevin\"\n",
    "age = 32\n",
    "print(f\"my name is {name} and i am {age}\")\n",
    "print(f\"my name is {name.upper()} and i am {age}\")#call to methods"
   ]
  },
  {
   "cell_type": "markdown",
   "metadata": {},
   "source": [
    "Multi line f string"
   ]
  },
  {
   "cell_type": "code",
   "execution_count": null,
   "metadata": {},
   "outputs": [
    {
     "name": "stdout",
     "output_type": "stream",
     "text": [
      "my name is Kevin and i am 32 i am 32 years old i am Female\n",
      "my name is Kevin and i am 32\n",
      "i am 32 years old\n",
      "i am Female\n"
     ]
    }
   ],
   "source": [
    "name = \"Kevin\"\n",
    "age = 32\n",
    "gender = \"Female\"\n",
    "print(f\"my name is {name} and i am {age} \"\\\n",
    "    f\"i am {age} years old \"\\\n",
    "    f\"i am {gender}\")\n",
    "    #or\n",
    "print(f\"\"\"my name is {name} and i am {age}\n",
    "i am {age} years old\n",
    "i am {gender}\"\"\")"
   ]
  },
  {
   "cell_type": "markdown",
   "metadata": {},
   "source": [
    "output should include curly braces"
   ]
  },
  {
   "cell_type": "code",
   "execution_count": null,
   "metadata": {},
   "outputs": [
    {
     "name": "stdout",
     "output_type": "stream",
     "text": [
      "the sum of {x and y} is {30}\n"
     ]
    }
   ],
   "source": [
    "y =10\n",
    "x =20\n",
    "print(f\"the sum of {{x and y}} is {{{y + x}}}\")"
   ]
  },
  {
   "cell_type": "markdown",
   "metadata": {},
   "source": [
    "Methods\n",
    "strip() removes leading and trailing whitespaces"
   ]
  },
  {
   "cell_type": "code",
   "execution_count": null,
   "metadata": {},
   "outputs": [
    {
     "name": "stdout",
     "output_type": "stream",
     "text": [
      "Hello\n"
     ]
    }
   ],
   "source": [
    "greet = \"   Hello   \"\n",
    "print(greet.strip()) \n"
   ]
  },
  {
   "cell_type": "code",
   "execution_count": 12,
   "metadata": {},
   "outputs": [
    {
     "name": "stdout",
     "output_type": "stream",
     "text": [
      "Hello\n"
     ]
    }
   ],
   "source": [
    "greet = \"   Hello   \"\n",
    "print(greet.strip()) "
   ]
  },
  {
   "cell_type": "markdown",
   "metadata": {},
   "source": [
    "Logical operators\n",
    "AND\n",
    "OR\n",
    "NOT"
   ]
  },
  {
   "cell_type": "code",
   "execution_count": 15,
   "metadata": {},
   "outputs": [
    {
     "name": "stdout",
     "output_type": "stream",
     "text": [
      "hey\n"
     ]
    }
   ],
   "source": [
    "y = 20\n",
    "x = 30\n",
    "z = 40\n",
    "if y >= 20 and x <= 40:\n",
    "    print(\"hey\")\n",
    "else:\n",
    "    print(\"ho\")\n",
    "    \n"
   ]
  },
  {
   "cell_type": "code",
   "execution_count": 16,
   "metadata": {},
   "outputs": [
    {
     "name": "stdout",
     "output_type": "stream",
     "text": [
      "hey\n"
     ]
    }
   ],
   "source": [
    "if y >= 20 or x >= 40:\n",
    "    print(\"hey\")\n",
    "else:\n",
    "    print(\"ho\")"
   ]
  },
  {
   "cell_type": "code",
   "execution_count": 17,
   "metadata": {},
   "outputs": [
    {
     "name": "stdout",
     "output_type": "stream",
     "text": [
      "ho\n"
     ]
    }
   ],
   "source": [
    "if not( y >= 20 and x <= 40):\n",
    "    print(\"hey\")\n",
    "else:\n",
    "    print(\"ho\")"
   ]
  },
  {
   "cell_type": "markdown",
   "metadata": {},
   "source": [
    "## BITWISE OPERATORS\n",
    "Bitwise AND (&) \n",
    "    Returns 1 if both bits are 1 else it returns 0\n",
    "Bitwise OR (|)\n",
    "    returns one if any of the bit is 1; else it returns 0\n",
    "Bitwise  NOT (~)\n",
    "    returns one's complement of a number(it will be flipped 0 to 1, 1 to 0)\n",
    "Bitwise XOR (^)\n",
    "    returns 1 if one of the bits is 1; else it returns 0"
   ]
  },
  {
   "cell_type": "code",
   "execution_count": 20,
   "metadata": {},
   "outputs": [
    {
     "name": "stdout",
     "output_type": "stream",
     "text": [
      "0\n",
      "0b0\n"
     ]
    }
   ],
   "source": [
    "y = 10\n",
    "x = 5\n",
    "print(y&x)\n",
    "print(bin(y&x))"
   ]
  },
  {
   "cell_type": "code",
   "execution_count": 22,
   "metadata": {},
   "outputs": [
    {
     "name": "stdout",
     "output_type": "stream",
     "text": [
      "0b1111\n",
      "15\n"
     ]
    }
   ],
   "source": [
    "print(bin(y|x))\n",
    "print(y|x)"
   ]
  },
  {
   "cell_type": "markdown",
   "metadata": {},
   "source": [
    "there is always a sign bit infront\n",
    "if the number is negative the sign bit is 1 or else 0\n",
    "10 = 1010\n",
    "with a sign bit = 01010\n",
    "after fliping it = 10101= -11"
   ]
  },
  {
   "cell_type": "code",
   "execution_count": 24,
   "metadata": {},
   "outputs": [
    {
     "name": "stdout",
     "output_type": "stream",
     "text": [
      "-11\n",
      "-0b1011\n"
     ]
    }
   ],
   "source": [
    "print(~y)\n",
    "print(bin(~y))"
   ]
  },
  {
   "cell_type": "code",
   "execution_count": 25,
   "metadata": {},
   "outputs": [
    {
     "name": "stdout",
     "output_type": "stream",
     "text": [
      "3\n",
      "0b11\n"
     ]
    }
   ],
   "source": [
    "a = 10\n",
    "b = 9\n",
    "print(a^b)\n",
    "print(bin(a^b))\n"
   ]
  },
  {
   "cell_type": "markdown",
   "metadata": {},
   "source": [
    "## Bitwise shift operator(>>)\n",
    "shifts the bits of a binary number towards the left or right\n",
    "as a consequence, it divides the number by 2^n\n",
    "n = the shift number"
   ]
  },
  {
   "cell_type": "code",
   "execution_count": 27,
   "metadata": {},
   "outputs": [
    {
     "name": "stdout",
     "output_type": "stream",
     "text": [
      "1\n",
      "3\n"
     ]
    }
   ],
   "source": [
    "a = 12\n",
    "print(a>>3)\n",
    "print(a>>2)\n",
    "b"
   ]
  },
  {
   "cell_type": "markdown",
   "metadata": {},
   "source": [
    "12 in binary =  01100\n",
    "take its complement\n",
    "10011\n",
    "and 1\n",
    "10100 = -12"
   ]
  },
  {
   "cell_type": "code",
   "execution_count": 30,
   "metadata": {},
   "outputs": [
    {
     "name": "stdout",
     "output_type": "stream",
     "text": [
      "-6\n",
      "-0b110\n",
      "-3\n",
      "-0b11\n"
     ]
    }
   ],
   "source": [
    "b = -12\n",
    "print(b>>1)\n",
    "print(bin(b>>1))\n",
    "print(b>>2)\n",
    "print(bin(b>>2))"
   ]
  },
  {
   "cell_type": "markdown",
   "metadata": {},
   "source": [
    "## Bitwise Left Shift Operator(<<)\n",
    "\n",
    "shifts the bits of the binary number to the left \n",
    "as a consequence it multiplies the number by 2^n\n"
   ]
  },
  {
   "cell_type": "code",
   "execution_count": 33,
   "metadata": {},
   "outputs": [
    {
     "name": "stdout",
     "output_type": "stream",
     "text": [
      "12\n",
      "-12\n"
     ]
    }
   ],
   "source": [
    "a = 3\n",
    "print(a<<2)\n",
    "a = -3\n",
    "print(a<<2)"
   ]
  },
  {
   "cell_type": "markdown",
   "metadata": {},
   "source": [
    "## Assignment Operators\n",
    "assign =                              \n",
    "add and assign +=\n",
    "subtract and assign -=\n",
    "multiply and assign *=\n",
    "Divide and assign /=\n",
    "modulus and assign %=\n",
    "Divide(floor) and assign //=\n",
    "Exponent and assign **=\n",
    "Bitwise AND and assign &=\n",
    "Bitwise OR and assign |=\n",
    "Bitwise XOR and assign ^=\n",
    "Bitwise right shift and assign >>=\n",
    "Bitwise left shift and assign <<="
   ]
  }
 ],
 "metadata": {
  "kernelspec": {
   "display_name": "Python 3",
   "language": "python",
   "name": "python3"
  },
  "language_info": {
   "codemirror_mode": {
    "name": "ipython",
    "version": 3
   },
   "file_extension": ".py",
   "mimetype": "text/x-python",
   "name": "python",
   "nbconvert_exporter": "python",
   "pygments_lexer": "ipython3",
   "version": "3.11.0"
  }
 },
 "nbformat": 4,
 "nbformat_minor": 2
}
